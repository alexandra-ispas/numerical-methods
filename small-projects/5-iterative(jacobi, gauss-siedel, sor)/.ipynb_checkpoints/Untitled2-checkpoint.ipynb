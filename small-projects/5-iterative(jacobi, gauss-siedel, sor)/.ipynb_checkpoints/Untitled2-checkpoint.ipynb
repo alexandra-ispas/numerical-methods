{
 "cells": [
  {
   "cell_type": "code",
   "execution_count": 5,
   "metadata": {},
   "outputs": [
    {
     "name": "stdout",
     "output_type": "stream",
     "text": [
      "A =\r\n",
      "\r\n",
      "   100     3     4     2     0\r\n",
      "     3     4     0     5     0\r\n",
      "     6     0     7     8     9\r\n",
      "     0     0    10    11     0\r\n",
      "     0     0     0     0    12\r\n",
      "\r\n"
     ]
    }
   ],
   "source": [
    "A = [100 3 4 2 0;3 4 0 5 0; 6 0 7 8 9; 0 0 10 11 0;0 0 0 0 12]"
   ]
  },
  {
   "cell_type": "code",
   "execution_count": 15,
   "metadata": {},
   "outputs": [],
   "source": [
    "function [y] = csr_multiplication(values, colind, rowptr, x)\n",
    "  n = length(x);\n",
    "  y = zeros(n, 1);\n",
    "  for i = 1:n\n",
    "    for j = rowptr(i):rowptr(i+1) - 1\n",
    "      y(i) = y(i) + values(j) * x(colind(j));\n",
    "    end\n",
    "  end\n",
    "endfunction"
   ]
  },
  {
   "cell_type": "code",
   "execution_count": 29,
   "metadata": {},
   "outputs": [
    {
     "name": "stdout",
     "output_type": "stream",
     "text": [
      "v =\n",
      "\n",
      "   100     2     3     4     5     6     7     8     9    10    11    12\n",
      "\n",
      "c =\n",
      "\n",
      "   1   4   1   2   4   1   3   4   5   3   4   5\n",
      "\n",
      "r =\n",
      "\n",
      "    1    3    6   10   12   13\n",
      "\n"
     ]
    }
   ],
   "source": [
    "v = [100 2 3 4 5 6 7 8 9 10 11 12]\n",
    "c = [1 4 1 2 4 1 3 4 5 3 4 5]\n",
    "r = [1 3 6 10 12 13]\n",
    "\n",
    "function [x] = j(G_values, G_colind, G_rowptr, c, tol)\n",
    "  n = length(G_rowptr) - 1;\n",
    "    prev_x = zeros(n,1);\n",
    "  G_J = csr_multiplication(G_values, G_colind, G_rowptr, aux);\n",
    " \n",
    "  while 1\n",
    "    x =csr_multiplication(G_values, G_colind, G_rowptr, prev_x) + c\n",
    "    err = norm(x - prev_x);\n",
    "    if err < tol\n",
    "       return;\n",
    "    endif\n",
    "    prex_x(1) = x;\n",
    "  endwhile\n",
    "endfunction\n",
    "\n",
    "j(v,c,r,)\n"
   ]
  },
  {
   "cell_type": "code",
   "execution_count": 30,
   "metadata": {},
   "outputs": [
    {
     "name": "stdout",
     "output_type": "stream",
     "text": [
      "x =\n",
      "\n",
      "   1\n",
      "   1\n",
      "   1\n",
      "   1\n",
      "   1\n",
      "   1\n",
      "\n",
      "x =  4\n",
      " 4\n"
     ]
    }
   ],
   "source": [
    "x(1:6,1) = 1\n",
    "x = 4\n",
    "disp(x)"
   ]
  },
  {
   "cell_type": "code",
   "execution_count": null,
   "metadata": {},
   "outputs": [],
   "source": [
    "function [G_J, c_J] = Jn(A, b)\n",
    "    N = diag(diag(A));\n",
    "    P = N - A;\n",
    "    inv_N = inv(N);\n",
    "    G_J = inv_N * P;\n",
    "    c_J = inv_N * b;\n",
    "endfunction"
   ]
  },
  {
   "cell_type": "code",
   "execution_count": null,
   "metadata": {},
   "outputs": [],
   "source": [
    "Jn(A,)"
   ]
  }
 ],
 "metadata": {
  "kernelspec": {
   "display_name": "Octave",
   "language": "octave",
   "name": "octave"
  },
  "language_info": {
   "file_extension": ".m",
   "help_links": [
    {
     "text": "GNU Octave",
     "url": "https://www.gnu.org/software/octave/support.html"
    },
    {
     "text": "Octave Kernel",
     "url": "https://github.com/Calysto/octave_kernel"
    },
    {
     "text": "MetaKernel Magics",
     "url": "https://metakernel.readthedocs.io/en/latest/source/README.html"
    }
   ],
   "mimetype": "text/x-octave",
   "name": "octave",
   "version": "4.2.2"
  }
 },
 "nbformat": 4,
 "nbformat_minor": 4
}

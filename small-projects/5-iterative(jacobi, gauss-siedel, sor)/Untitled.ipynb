{
 "cells": [
  {
   "cell_type": "code",
   "execution_count": 2,
   "metadata": {},
   "outputs": [
    {
     "name": "stdout",
     "output_type": "stream",
     "text": [
      "error: vertical dimensions mismatch (1x1 vs 1x4)\r\n"
     ]
    }
   ],
   "source": [
    "x(1,) = 9;\n",
    "x = [x; 1:4]"
   ]
  },
  {
   "cell_type": "code",
   "execution_count": 3,
   "metadata": {},
   "outputs": [
    {
     "name": "stdout",
     "output_type": "stream",
     "text": [
      "A =\r\n",
      "\r\n",
      "   1   2   3\r\n",
      "   2   3   4\r\n",
      "   5   6   7\r\n",
      "\r\n"
     ]
    }
   ],
   "source": [
    "A = [1 2 3; 2 3 4; 5 6 7]"
   ]
  },
  {
   "cell_type": "code",
   "execution_count": 8,
   "metadata": {},
   "outputs": [
    {
     "name": "stdout",
     "output_type": "stream",
     "text": [
      "A =\r\n",
      "\r\n",
      "   1   2   3   1\r\n",
      "   2   3   4   1\r\n",
      "   5   6   7   1\r\n",
      "   1   1   1   1\r\n",
      "\r\n"
     ]
    }
   ],
   "source": [
    "A = [A ;ones(1,4)]"
   ]
  },
  {
   "cell_type": "code",
   "execution_count": 9,
   "metadata": {},
   "outputs": [
    {
     "name": "stdout",
     "output_type": "stream",
     "text": [
      "v =\r\n",
      "\r\n",
      "   2   3   3   4\r\n",
      "\r\n"
     ]
    }
   ],
   "source": [
    "v = [2 3 3 4]"
   ]
  },
  {
   "cell_type": "code",
   "execution_count": 10,
   "metadata": {},
   "outputs": [
    {
     "name": "stdout",
     "output_type": "stream",
     "text": [
      "A =\r\n",
      "\r\n",
      "   1   2   3   1\r\n",
      "   2   3   4   1\r\n",
      "   5   6   7   1\r\n",
      "   1   1   1   1\r\n",
      "   2   3   3   4\r\n",
      "\r\n"
     ]
    }
   ],
   "source": [
    "A = [A;v]"
   ]
  },
  {
   "cell_type": "code",
   "execution_count": 15,
   "metadata": {},
   "outputs": [
    {
     "name": "stdout",
     "output_type": "stream",
     "text": [
      "   2   3   3   4\r\n",
      "   1   2   3   1\r\n",
      "   2   3   4   1\r\n",
      "   5   6   7   1\r\n",
      "   1   1   1   1\r\n",
      "   2   3   3   4\r\n",
      "   1   2   3   4\r\n",
      "   5   6   6   7\r\n",
      "   9   8   7   6\r\n"
     ]
    }
   ],
   "source": [
    "disp(v)"
   ]
  },
  {
   "cell_type": "code",
   "execution_count": 12,
   "metadata": {},
   "outputs": [
    {
     "name": "stdout",
     "output_type": "stream",
     "text": [
      "A =\r\n",
      "\r\n",
      "   1   2   3   1\r\n",
      "   2   3   4   1\r\n",
      "   5   6   7   1\r\n",
      "   1   1   1   1\r\n",
      "   2   3   3   4\r\n",
      "   1   2   3   4\r\n",
      "   5   6   6   7\r\n",
      "   9   8   7   6\r\n",
      "\r\n"
     ]
    }
   ],
   "source": [
    "A = [A; B(1:3, :)]"
   ]
  },
  {
   "cell_type": "code",
   "execution_count": null,
   "metadata": {},
   "outputs": [],
   "source": []
  },
  {
   "cell_type": "code",
   "execution_count": 14,
   "metadata": {},
   "outputs": [
    {
     "name": "stdout",
     "output_type": "stream",
     "text": [
      "v =\r\n",
      "\r\n",
      "   2   3   3   4\r\n",
      "   1   2   3   1\r\n",
      "   2   3   4   1\r\n",
      "   5   6   7   1\r\n",
      "   1   1   1   1\r\n",
      "   2   3   3   4\r\n",
      "   1   2   3   4\r\n",
      "   5   6   6   7\r\n",
      "   9   8   7   6\r\n",
      "\r\n"
     ]
    }
   ],
   "source": [
    "v = [v; A(1:8, :)]"
   ]
  },
  {
   "cell_type": "code",
   "execution_count": 16,
   "metadata": {},
   "outputs": [
    {
     "name": "stdout",
     "output_type": "stream",
     "text": [
      "a =\n",
      "\n",
      "   1   2   3\n",
      "\n",
      "b =\n",
      "\n",
      "   23    4    4\n",
      "\n",
      "c =\n",
      "\n",
      "    4   45    6\n",
      "\n",
      "d =\n",
      "\n",
      "    1    2    3   23    4    4    4   45    6\n",
      "\n"
     ]
    }
   ],
   "source": [
    "a = [1 2 3]\n",
    "b =[ 23 4 4]\n",
    "c = [4 45 6]\n",
    "d = [a,b,c]"
   ]
  },
  {
   "cell_type": "code",
   "execution_count": 17,
   "metadata": {},
   "outputs": [
    {
     "name": "stdout",
     "output_type": "stream",
     "text": [
      "n =  9\r\n"
     ]
    }
   ],
   "source": [
    "n = length(d)"
   ]
  },
  {
   "cell_type": "code",
   "execution_count": null,
   "metadata": {},
   "outputs": [],
   "source": []
  }
 ],
 "metadata": {
  "kernelspec": {
   "display_name": "Octave",
   "language": "octave",
   "name": "octave"
  },
  "language_info": {
   "file_extension": ".m",
   "help_links": [
    {
     "text": "GNU Octave",
     "url": "https://www.gnu.org/software/octave/support.html"
    },
    {
     "text": "Octave Kernel",
     "url": "https://github.com/Calysto/octave_kernel"
    },
    {
     "text": "MetaKernel Magics",
     "url": "https://metakernel.readthedocs.io/en/latest/source/README.html"
    }
   ],
   "mimetype": "text/x-octave",
   "name": "octave",
   "version": "4.2.2"
  }
 },
 "nbformat": 4,
 "nbformat_minor": 4
}

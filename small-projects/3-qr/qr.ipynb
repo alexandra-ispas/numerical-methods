{
 "cells": [
  {
   "cell_type": "markdown",
   "metadata": {
    "colab_type": "text",
    "id": "_D7jCpvMLzyy"
   },
   "source": [
    "Inainte sa trimiti notebook-ul:\n",
    "\n",
    "* asigura-te ca totul se executa cum trebuie. Prima oara, **restarteaza kernel-ul** (in meniu, selecteaza Kernel$\\rightarrow$Restart & Run all);\n",
    "\n",
    "* nu lasa niciun mesaj la output (`disp`, `printf`, linii care nu sunt incheiate cu `;`) in functiile pe care le scrii decat daca ti se specifica explicit sa faci acest lucru! Orice abatere va fi **depunctata automat** de grader;\n",
    "\n",
    "* citeste instructiunile de [aici](https://github.com/radusqrt/numerical-methods/blob/master/lab_instructions.md) cu atentie;\n",
    "\n",
    "* asigura-te ca rezolvi toate celulele in care scrie `YOUR CODE HERE` sau `YOUR ANSWER HERE` si ca iti treci numele mai jos:"
   ]
  },
  {
   "cell_type": "code",
   "execution_count": 1,
   "metadata": {
    "colab": {},
    "colab_type": "code",
    "id": "UstwbVhOLzy1"
   },
   "outputs": [],
   "source": [
    "STUDENT_NAME = \"Ispas Alexandra-Petrina\";"
   ]
  },
  {
   "cell_type": "markdown",
   "metadata": {
    "colab_type": "text",
    "id": "4QUU9RseLzy3"
   },
   "source": [
    "---"
   ]
  },
  {
   "cell_type": "markdown",
   "metadata": {
    "colab_type": "text",
    "deletable": false,
    "editable": false,
    "id": "O-hzs6b_Lzy5",
    "nbgrader": {
     "cell_type": "markdown",
     "checksum": "cd9b6b0762d20a50765496f3f2f82cee",
     "grade": false,
     "grade_id": "cell-c0cff62c7b1fdeba",
     "locked": true,
     "schema_version": 3,
     "solution": false,
     "task": false
    }
   },
   "source": [
    "# Laborator 3: Factorizari QR\n",
    "### Autor: Radu Stochitoiu"
   ]
  },
  {
   "cell_type": "markdown",
   "metadata": {
    "colab_type": "text",
    "deletable": false,
    "editable": false,
    "id": "RiY7SujCLzy5",
    "nbgrader": {
     "cell_type": "markdown",
     "checksum": "c76ac74c1860f2c4c7d084d7e61db9d1",
     "grade": false,
     "grade_id": "cell-a3fd75263f197aba",
     "locked": true,
     "schema_version": 3,
     "solution": false,
     "task": false
    }
   },
   "source": [
    "## Functii ajutatoare    "
   ]
  },
  {
   "cell_type": "code",
   "execution_count": 2,
   "metadata": {
    "colab": {},
    "colab_type": "code",
    "deletable": false,
    "editable": false,
    "id": "C4r7ejkTLzy6",
    "nbgrader": {
     "cell_type": "code",
     "checksum": "fd5ec08dd8134a31256cce446b08b164",
     "grade": false,
     "grade_id": "cell-ebc07a0ed9284ef0",
     "locked": true,
     "schema_version": 3,
     "solution": false,
     "task": false
    }
   },
   "outputs": [],
   "source": [
    "function [res] = isequal(A, B)\n",
    "    res = norm(A - B) < 1e-8;\n",
    "endfunction\n",
    "\n",
    "function [res] = custom_istriu(A)\n",
    "    A(A < 1e-8) = 0;\n",
    "    res = istriu(A);\n",
    "endfunction\n",
    "\n",
    "function custom_assert(A, f)\n",
    "    [Q, R] = f(A);\n",
    "    assert(isequal(Q * R, A));\n",
    "    assert(isequal(Q * Q', eye(size(A))));\n",
    "    assert(custom_istriu(R));\n",
    "endfunction"
   ]
  },
  {
   "cell_type": "markdown",
   "metadata": {
    "colab_type": "text",
    "deletable": false,
    "editable": false,
    "id": "Z-Usg1SeLzy8",
    "nbgrader": {
     "cell_type": "markdown",
     "checksum": "a1a55b4c9e8aabd23c1fedc29ba30c38",
     "grade": false,
     "grade_id": "cell-19f895ab29f974c1",
     "locked": true,
     "schema_version": 3,
     "solution": false,
     "task": false
    }
   },
   "source": [
    "## Problema 1\n",
    "\n",
    "Implementati functia ```GrammSchmidt(A)``` ce primeste ca parametru o matrice $A$ nu neaparat patratica, de lungime pozitiva si returneaza cele doua matrici $Q$ (ortogonala) si $R$ (superior triunghiulara) in care se descompune matricea $A$."
   ]
  },
  {
   "cell_type": "code",
   "execution_count": 3,
   "metadata": {
    "colab": {},
    "colab_type": "code",
    "deletable": false,
    "id": "fNdSceKGLzy9",
    "nbgrader": {
     "cell_type": "code",
     "checksum": "d5230fc5d1501eba79a60f6ee1b210d4",
     "grade": false,
     "grade_id": "cell-1b67c8fcd901e9e4",
     "locked": false,
     "schema_version": 3,
     "solution": true,
     "task": false
    }
   },
   "outputs": [],
   "source": [
    "function [Q, R] = GrammSchmidt(A)\n",
    "   [m n] = size(A);\n",
    "  Q = zeros(m,n);\n",
    "  R = zeros(n);\n",
    " \n",
    "  for j = 1 : n\n",
    "      v = A(:,j);\n",
    "      for i = 1:j-1\n",
    "          R(i, j) = Q(:, i)'*A(:,j);\n",
    "              v = v - R(i, j)*Q(:,i);\n",
    "       endfor\n",
    "        R(j,j) = norm(v);\n",
    "        Q(:, j) = v/R(j, j);\n",
    "   endfor\n",
    "endfunction"
   ]
  },
  {
   "cell_type": "code",
   "execution_count": 4,
   "metadata": {
    "colab": {},
    "colab_type": "code",
    "deletable": false,
    "editable": false,
    "id": "u1xkFAcULzy_",
    "nbgrader": {
     "cell_type": "code",
     "checksum": "9f15983d97b6ac7cef5e3130496ee43d",
     "grade": true,
     "grade_id": "cell-a7748a9190bcdb0f",
     "locked": true,
     "points": 3,
     "schema_version": 3,
     "solution": false,
     "task": false
    }
   },
   "outputs": [],
   "source": [
    "A_one_elem = [5];\n",
    "A_handmade = [1 2 2; 2 5 7; 3 9 17];\n",
    "aux = rand(3); A_rand3 = aux * aux';\n",
    "aux = rand(10); A_rand10 = aux * aux';\n",
    "\n",
    "custom_assert(A_one_elem, @GrammSchmidt);\n",
    "custom_assert(A_handmade, @GrammSchmidt);\n",
    "custom_assert(A_rand3, @GrammSchmidt);\n",
    "custom_assert(A_rand10, @GrammSchmidt);"
   ]
  },
  {
   "cell_type": "markdown",
   "metadata": {
    "colab_type": "text",
    "deletable": false,
    "editable": false,
    "id": "W4ETwsbPLzzD",
    "nbgrader": {
     "cell_type": "markdown",
     "checksum": "73cf2cdf79918e6c84963a8886a31a63",
     "grade": false,
     "grade_id": "cell-0ef8baaaad32a2c8",
     "locked": true,
     "schema_version": 3,
     "solution": false,
     "task": false
    }
   },
   "source": [
    "## Problema 2\n",
    "\n",
    "Implementati functia ```Givens(A)``` ce primeste ca parametru o matrice $A$ nu neaparat patratica, de lungime pozitiva si returneaza cele doua matrici $Q$ (ortogonala) si $R$ (superior triunghiulara) in care se descompune matricea $A$."
   ]
  },
  {
   "cell_type": "code",
   "execution_count": 5,
   "metadata": {
    "colab": {},
    "colab_type": "code",
    "deletable": false,
    "id": "kgiYnJ5DLzzE",
    "nbgrader": {
     "cell_type": "code",
     "checksum": "74657178f9f584f58f50a8862ee9c9da",
     "grade": false,
     "grade_id": "cell-c98dbd451d1a7cdb",
     "locked": false,
     "schema_version": 3,
     "solution": true,
     "task": false
    }
   },
   "outputs": [],
   "source": [
    "function [Q, R] = Givens(A)\n",
    "    [m n] = size(A);\n",
    "    Q = eye(m);\n",
    "    \n",
    "    for j = 1:n-1\n",
    "        for i = j + 1:n\n",
    "            r = sqrt(A(j, j)*A(j, j) + A(i, j)*A(i, j));\n",
    "            c = A(j , j)/r;\n",
    "            s = -A(i, j)/r;\n",
    "            \n",
    "            t = c*A(j, j:n) - s*A(i, j:n);\n",
    "            A(i, j:n) = s*A(j, j:n) + c*A(i,j:n);\n",
    "            A(j,j:n) = t;\n",
    "            \n",
    "            l = c*Q(j, 1:m) - s*Q(i,1:m);\n",
    "            Q(i,1:m) = s*Q(j, 1:m) + c*Q(i, 1:m);\n",
    "            Q(j,1:m) = l;\n",
    "        endfor\n",
    "    endfor\n",
    "    Q = Q';\n",
    "    R = A;\n",
    "endfunction"
   ]
  },
  {
   "cell_type": "code",
   "execution_count": 6,
   "metadata": {
    "colab": {},
    "colab_type": "code",
    "deletable": false,
    "editable": false,
    "id": "sEp6_z_wLzzH",
    "nbgrader": {
     "cell_type": "code",
     "checksum": "93a896ab5b8a39af10f3f014c9eba9bb",
     "grade": true,
     "grade_id": "cell-8691b7714ff7a08c",
     "locked": true,
     "points": 3,
     "schema_version": 3,
     "solution": false,
     "task": false
    }
   },
   "outputs": [],
   "source": [
    "A_one_elem = [5];\n",
    "A_handmade = [1 2 2; 2 5 7; 3 9 17];\n",
    "aux = rand(3); A_rand3 = aux * aux';\n",
    "aux = rand(10); A_rand10 = aux * aux';\n",
    "\n",
    "custom_assert(A_one_elem, @Givens);\n",
    "custom_assert(A_handmade, @Givens);\n",
    "custom_assert(A_rand3, @Givens);\n",
    "custom_assert(A_rand10, @Givens);"
   ]
  },
  {
   "cell_type": "markdown",
   "metadata": {
    "colab_type": "text",
    "deletable": false,
    "editable": false,
    "id": "Lh_sSquQLzzJ",
    "nbgrader": {
     "cell_type": "markdown",
     "checksum": "7f29d226107faac795b7f17583c99791",
     "grade": false,
     "grade_id": "cell-57e4844d50a75e01",
     "locked": true,
     "schema_version": 3,
     "solution": false,
     "task": false
    }
   },
   "source": [
    "## Problema 3\n",
    "\n",
    "Implementati functia ```Householder(A)``` ce primeste ca parametru o matrice $A$ nu neaparat patratica, de lungime pozitiva si returneaza cele doua matrici $Q$ (ortogonala) si $R$ (superior triunghiulara) in care se descompune matricea $A$."
   ]
  },
  {
   "cell_type": "code",
   "execution_count": 1,
   "metadata": {
    "colab": {},
    "colab_type": "code",
    "deletable": false,
    "id": "GQ4ujORuLzzK",
    "nbgrader": {
     "cell_type": "code",
     "checksum": "316c17bf92d0420c3fb06dfc01ceb448",
     "grade": false,
     "grade_id": "cell-365321778b3a1ee6",
     "locked": false,
     "schema_version": 3,
     "solution": true,
     "task": false
    }
   },
   "outputs": [],
   "source": [
    "function [Q R] = Householder(A, b)\n",
    "    [m n] = size(A);\n",
    "    Q = eye(m);\n",
    "\n",
    "    for i = 1 : n\n",
    "        v = zeros(m,1);\n",
    "        sigma = sign(A(i,i))*norm(A(i:n,i));\n",
    "        v(i) = A(i,i) + sigma;\n",
    "        \n",
    "        v(i+1:n) = A(i+1:m,i);\n",
    "        H = eye(m) - 2*v*v'/(v'*v);\n",
    "        A = H*A;\n",
    "        Q = Q*H;\n",
    "    endfor\n",
    "    R = A;\n",
    "endfunction"
   ]
  },
  {
   "cell_type": "code",
   "execution_count": 2,
   "metadata": {},
   "outputs": [
    {
     "name": "stdout",
     "output_type": "stream",
     "text": [
      "A =\n",
      "\n",
      "    1    2    2\n",
      "    2    5    7\n",
      "    3    9   17\n",
      "\n",
      "b =\n",
      "\n",
      "   0\n",
      "   0\n",
      "   0\n",
      "\n",
      "Q =\n",
      "\n",
      "  -0.26726  -0.67445   0.68825\n",
      "  -0.53452  -0.49051  -0.68825\n",
      "  -0.80178   0.55183   0.22942\n",
      "\n",
      "R =\n",
      "\n",
      "  -3.7417e+00  -1.0423e+01  -1.7907e+01\n",
      "  -5.6035e-16   1.1650e+00   4.5985e+00\n",
      "   5.7181e-16   1.2039e-16   4.5883e-01\n",
      "\n"
     ]
    }
   ],
   "source": [
    "A = [1 2a^3 2a;0 5a 2;0 -12a 3(a-1)]\n",
    "b = [0 0 0]'\n",
    "[Q, R] = Householder(A, b)"
   ]
  },
  {
   "cell_type": "code",
   "execution_count": null,
   "metadata": {},
   "outputs": [],
   "source": []
  },
  {
   "cell_type": "code",
   "execution_count": 9,
   "metadata": {
    "colab": {},
    "colab_type": "code",
    "deletable": false,
    "editable": false,
    "id": "mdEKBBamLzzN",
    "nbgrader": {
     "cell_type": "code",
     "checksum": "f884891f94ab94645677d09291761573",
     "grade": true,
     "grade_id": "cell-695e5ae689d4552b",
     "locked": true,
     "points": 3,
     "schema_version": 3,
     "solution": false,
     "task": false
    }
   },
   "outputs": [],
   "source": [
    "A_one_elem = [5];\n",
    "A_handmade = [1 2 2; 2 5 7; 3 9 17];\n",
    "aux = rand(3); A_rand3 = aux * aux';\n",
    "aux = rand(10); A_rand10 = aux * aux';\n",
    "\n",
    "custom_assert(A_one_elem, @Householder);\n",
    "custom_assert(A_handmade, @Householder);\n",
    "custom_assert(A_rand3, @Householder);\n",
    "custom_assert(A_rand10, @Householder);"
   ]
  },
  {
   "cell_type": "markdown",
   "metadata": {
    "colab_type": "text",
    "deletable": false,
    "editable": false,
    "id": "HyLC4MSULzzP",
    "nbgrader": {
     "cell_type": "markdown",
     "checksum": "895207a8b7315bff7e217a43ff7b11b2",
     "grade": false,
     "grade_id": "cell-780adc57e7825429",
     "locked": true,
     "schema_version": 3,
     "solution": false,
     "task": false
    }
   },
   "source": [
    "## Problema 4\n",
    "\n",
    "Implementati functia ```custom_norm(x, p)``` ce primeste ca parametru un vector $x$ de lungime pozitiva si returneaza norma de ordin $p$ a lui $x$. $p$ poate lua si valoarea $inf$."
   ]
  },
  {
   "cell_type": "code",
   "execution_count": 10,
   "metadata": {
    "colab": {},
    "colab_type": "code",
    "deletable": false,
    "id": "meBaYrs2LzzQ",
    "nbgrader": {
     "cell_type": "code",
     "checksum": "1a7c015882b550dfe37ba4cdbdeb4423",
     "grade": false,
     "grade_id": "cell-ba465a8c649483e5",
     "locked": false,
     "schema_version": 3,
     "solution": true,
     "task": false
    }
   },
   "outputs": [],
   "source": [
    "function [res] = custom_norm(x, p)\n",
    "    if p == inf\n",
    "        res = max(x);\n",
    "    else\n",
    "        n = length(x);\n",
    "        s = 0;\n",
    "        for i = 1:n\n",
    "            s = s + (abs(x(i)))^p;\n",
    "        endfor\n",
    "        res = s^(1/p);\n",
    "    endif\n",
    "endfunction"
   ]
  },
  {
   "cell_type": "code",
   "execution_count": 11,
   "metadata": {
    "colab": {},
    "colab_type": "code",
    "deletable": false,
    "editable": false,
    "id": "ieJzeWwwLzzT",
    "nbgrader": {
     "cell_type": "code",
     "checksum": "08f0679999c0cabf2d8eb7850ff69498",
     "grade": true,
     "grade_id": "cell-7f578ee159e3ec17",
     "locked": true,
     "points": 1,
     "schema_version": 3,
     "solution": false,
     "task": false
    }
   },
   "outputs": [],
   "source": [
    "x1 = [1 2 3];\n",
    "x2 = rand(20, 1);\n",
    "x3 = rand(100, 1);\n",
    "\n",
    "assert(isequal(norm(x1, 2), custom_norm(x1, 2)));\n",
    "assert(isequal(norm(x2, 2), custom_norm(x2, 2)));\n",
    "assert(isequal(norm(x3, 2), custom_norm(x3, 2)));\n",
    "\n",
    "assert(isequal(norm(x1, 5), custom_norm(x1, 5)));\n",
    "assert(isequal(norm(x2, 5), custom_norm(x2, 5)));\n",
    "assert(isequal(norm(x3, 5), custom_norm(x3, 5)));\n",
    "\n",
    "assert(isequal(norm(x1, inf), custom_norm(x1, inf)));\n",
    "assert(isequal(norm(x2, inf), custom_norm(x2, inf)));\n",
    "assert(isequal(norm(x3, inf), custom_norm(x3, inf)));"
   ]
  }
 ],
 "metadata": {
  "colab": {
   "name": "assignment.ipynb",
   "provenance": []
  },
  "kernelspec": {
   "display_name": "Octave",
   "language": "octave",
   "name": "octave"
  },
  "language_info": {
   "file_extension": ".m",
   "help_links": [
    {
     "text": "GNU Octave",
     "url": "https://www.gnu.org/software/octave/support.html"
    },
    {
     "text": "Octave Kernel",
     "url": "https://github.com/Calysto/octave_kernel"
    },
    {
     "text": "MetaKernel Magics",
     "url": "https://metakernel.readthedocs.io/en/latest/source/README.html"
    }
   ],
   "mimetype": "text/x-octave",
   "name": "octave",
   "version": "4.2.2"
  }
 },
 "nbformat": 4,
 "nbformat_minor": 1
}

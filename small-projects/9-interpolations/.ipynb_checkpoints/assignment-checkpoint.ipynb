{
 "cells": [
  {
   "cell_type": "markdown",
   "metadata": {},
   "source": [
    "Inainte sa trimiti notebook-ul:\n",
    "\n",
    "* asigura-te ca totul se executa cum trebuie. Prima oara, **restarteaza kernel-ul** (in meniu, selecteaza Kernel$\\rightarrow$Restart & Run all);\n",
    "\n",
    "* nu lasa niciun mesaj la output (`disp`, `printf`, linii care nu sunt incheiate cu `;`) in functiile pe care le scrii decat daca ti se specifica explicit sa faci acest lucru! Orice abatere va fi **depunctata automat** de grader;\n",
    "\n",
    "* citeste instructiunile de [aici](https://github.com/radusqrt/numerical-methods/blob/master/lab_instructions.md) cu atentie;\n",
    "\n",
    "* asigura-te ca rezolvi toate celulele in care scrie `YOUR CODE HERE` sau `YOUR ANSWER HERE` si ca iti treci numele mai jos:"
   ]
  },
  {
   "cell_type": "code",
   "execution_count": 1,
   "metadata": {},
   "outputs": [],
   "source": [
    "STUDENT_NAME = \"Ispas Alexandra-Petrina\";"
   ]
  },
  {
   "cell_type": "markdown",
   "metadata": {},
   "source": [
    "---"
   ]
  },
  {
   "cell_type": "markdown",
   "metadata": {
    "deletable": false,
    "editable": false,
    "nbgrader": {
     "cell_type": "markdown",
     "checksum": "f11bf5f1a5135c9ce99001321749ce09",
     "grade": false,
     "grade_id": "cell-04c7510c8f1c2698",
     "locked": true,
     "schema_version": 3,
     "solution": false,
     "task": false
    }
   },
   "source": [
    "# Laborator 9: Interpolari\n",
    "### Autor: Radu Stochitoiu"
   ]
  },
  {
   "cell_type": "markdown",
   "metadata": {
    "deletable": false,
    "editable": false,
    "nbgrader": {
     "cell_type": "markdown",
     "checksum": "e8333e18bbbac61dd5aae02a18638a13",
     "grade": false,
     "grade_id": "cell-e751989d65b9c642",
     "locked": true,
     "schema_version": 3,
     "solution": false,
     "task": false
    }
   },
   "source": [
    "## Problema 1\n",
    "\n",
    "Implementati funcția ```vandermonde(x, y)``` ce primește doi vectori linie, $x, y$, reprezentând coordonatele pe axele OX și OY ale unor puncte ce definesc suportul interpolării și returnează un vector coloană, $P$, ce reprezintă polinomul care trece prin toate punctele.\n",
    "\n",
    "Primul element al lui $P$ reprezintă coeficientul celei mai mari puteri.\n",
    "\n",
    "Ultimul element al lui $P$ reprezintă coeficientul celei mai mici puteri ($x^0$)."
   ]
  },
  {
   "cell_type": "code",
   "execution_count": 2,
   "metadata": {
    "deletable": false,
    "nbgrader": {
     "cell_type": "code",
     "checksum": "db5fcd7b74b007c1801ed9e4b49227a4",
     "grade": false,
     "grade_id": "cell-e0adea4fd70d2b4d",
     "locked": false,
     "schema_version": 3,
     "solution": true,
     "task": false
    }
   },
   "outputs": [],
   "source": [
    "function [P] = vandermonde(x, y)\n",
    "    A = fliplr(vander(x));\n",
    "    y = y';\n",
    "    P = A\\y;\n",
    "    P = flip(P);\n",
    "endfunction"
   ]
  },
  {
   "cell_type": "code",
   "execution_count": 3,
   "metadata": {
    "deletable": false,
    "editable": false,
    "nbgrader": {
     "cell_type": "code",
     "checksum": "0603c10cdea3fff847e0661afc9154ae",
     "grade": true,
     "grade_id": "cell-5997f045f89d340e",
     "locked": true,
     "points": 2.5,
     "schema_version": 3,
     "solution": false,
     "task": false
    }
   },
   "outputs": [
    {
     "data": {
      "image/png": "[encoded data removed]",
      "text/plain": [
       "<IPython.core.display.Image object>"
      ]
     },
     "metadata": {},
     "output_type": "display_data"
    }
   ],
   "source": [
    "function [y] = f(x)\n",
    "    y = sin(x) - x.^2;\n",
    "endfunction\n",
    "\n",
    "% Test 1\n",
    "x = sort((rand(1, 3) - 0.5) * 50);\n",
    "y = f(x);\n",
    "P = vandermonde(x, y);\n",
    "\n",
    "subplot(3, 1, 1);\n",
    "hold\n",
    "xx = linspace(min(x), max(x));\n",
    "yy = polyval(P, xx);\n",
    "plot(xx, yy)\n",
    "plot(xx, f(xx))\n",
    "plot(x, y, 'o', 'markersize', 12)\n",
    "for i = 1:length(x)\n",
    "    assert(norm(polyval(P, x(i)) - y(i)) < 1e-4);\n",
    "endfor\n",
    "legend(\"Aproximare\", \"Real\")\n",
    "\n",
    "% Test 2\n",
    "x = sort((rand(1, 5) - 0.5) * 50);\n",
    "y = f(x);\n",
    "P = vandermonde(x, y);\n",
    "\n",
    "subplot(3, 1, 2);\n",
    "hold\n",
    "xx = linspace(min(x), max(x));\n",
    "yy = polyval(P, xx);\n",
    "plot(xx, yy)\n",
    "plot(xx, f(xx))\n",
    "hold on\n",
    "plot(x, y, 'o', 'markersize', 12)\n",
    "for i = 1:length(x)\n",
    "    assert(norm(polyval(P, x(i)) - y(i)) < 1e-4);\n",
    "endfor\n",
    "legend(\"Aproximare\", \"Real\")\n",
    "\n",
    "% Test 3\n",
    "x = sort((rand(1, 10) - 0.5) * 50);\n",
    "y = f(x);\n",
    "P = vandermonde(x, y);\n",
    "\n",
    "subplot(3, 1, 3);\n",
    "hold\n",
    "xx = linspace(min(x), max(x));\n",
    "yy = polyval(P, xx);\n",
    "plot(xx, yy)\n",
    "plot(xx, f(xx))\n",
    "hold on\n",
    "plot(x, y, 'o', 'markersize', 12)\n",
    "for i = 1:length(x)\n",
    "    assert(norm(polyval(P, x(i)) - y(i)) < 1e-4);\n",
    "endfor\n",
    "legend(\"Aproximare\", \"Real\")"
   ]
  },
  {
   "cell_type": "markdown",
   "metadata": {
    "deletable": false,
    "editable": false,
    "nbgrader": {
     "cell_type": "markdown",
     "checksum": "23a857dced380395a944837111288456",
     "grade": false,
     "grade_id": "cell-43a2db7c04972239",
     "locked": true,
     "schema_version": 3,
     "solution": false,
     "task": false
    }
   },
   "source": [
    "## Problema 2\n",
    "\n",
    "Implementati funcția ```lagrange(x, y, xx)``` ce primește doi vectori linie, $x, y$, reprezentând coordonatele pe axele OX și OY ale unor puncte ce definesc suportul interpolării și un vector linie $xx$ pentru care vrem să găsim valorile aproximate și returnează un vector linie, $yy$, ce reprezintă valorile interpolării Lagrange cu suportul $x, y$ prin toate punctele $xx$."
   ]
  },
  {
   "cell_type": "code",
   "execution_count": 4,
   "metadata": {
    "deletable": false,
    "nbgrader": {
     "cell_type": "code",
     "checksum": "fb61e583f6a307a5139d5d26d673d618",
     "grade": false,
     "grade_id": "cell-494fbafda041e109",
     "locked": false,
     "schema_version": 3,
     "solution": true,
     "task": false
    }
   },
   "outputs": [],
   "source": [
    "function [yy] = lagrange(x, y, xx)\n",
    "\n",
    "yy = zeros(1, length(xx));\n",
    "\n",
    "n = length(x);\n",
    "\n",
    "    for i = 1 : n\n",
    "\n",
    "        radacini = x;\n",
    "    \n",
    "        a = radacini(i);\n",
    "    \n",
    "        radacini(i) = [];\n",
    "    \n",
    "        coef = poly(radacini);\n",
    "    \n",
    "        q = polyval(coef, a);\n",
    "   \n",
    "        yy(i) = y(i) * polyval(coef, xx(i)) ./q; \n",
    "    \n",
    "    endfor\n",
    "endfunction"
   ]
  },
  {
   "cell_type": "code",
   "execution_count": 5,
   "metadata": {
    "deletable": false,
    "editable": false,
    "nbgrader": {
     "cell_type": "code",
     "checksum": "88c1e3aa9ddf16c54e3c28fca4f81422",
     "grade": true,
     "grade_id": "cell-b80a51a7a9d78f15",
     "locked": true,
     "points": 2.5,
     "schema_version": 3,
     "solution": false,
     "task": false
    }
   },
   "outputs": [
    {
     "data": {
      "image/png": "[encoded data removed]",
      "text/plain": [
       "<IPython.core.display.Image object>"
      ]
     },
     "metadata": {},
     "output_type": "display_data"
    }
   ],
   "source": [
    "function [y] = f(x)\n",
    "    y = x.^3 / 15 - 3;\n",
    "endfunction\n",
    "\n",
    "% Test 1\n",
    "x = sort((rand(1, 3) - 0.5) * 100);\n",
    "y = f(x);\n",
    "xx = linspace(min(x), max(x));\n",
    "yy = lagrange(x, y, xx);\n",
    "yy_test = lagrange(x, y, x);\n",
    "\n",
    "subplot(3, 1, 1);\n",
    "hold;\n",
    "plot(xx, yy)\n",
    "plot(xx, f(xx))\n",
    "plot(x, y, 'o', 'markersize', 12)\n",
    "for i = 1:length(x)\n",
    "    assert(norm(yy_test(i) - y(i)) < 1e-4);\n",
    "endfor\n",
    "legend(\"Aproximare\", \"Real\")\n",
    "\n",
    "% Test 2\n",
    "x = sort((rand(1, 10) - 0.5) * 100);\n",
    "y = f(x);\n",
    "xx = linspace(min(x), max(x));\n",
    "yy = lagrange(x, y, xx);\n",
    "yy_test = lagrange(x, y, x);\n",
    "\n",
    "subplot(3, 1, 2);\n",
    "hold\n",
    "plot(xx, yy)\n",
    "plot(xx, f(xx))\n",
    "plot(x, y, 'o', 'markersize', 12)\n",
    "for i = 1:length(x)\n",
    "    assert(norm(yy_test(i) - y(i)) < 1e-4);\n",
    "endfor\n",
    "legend(\"Aproximare\", \"Real\")\n",
    "\n",
    "% Test 3\n",
    "x = sort((rand(1, 30) - 0.5) * 100);\n",
    "y = f(x);\n",
    "xx = linspace(min(x), max(x));\n",
    "yy = lagrange(x, y, xx);\n",
    "yy_test = lagrange(x, y, x);\n",
    "\n",
    "subplot(3, 1, 3);\n",
    "hold\n",
    "plot(xx, yy)\n",
    "plot(xx, f(xx))\n",
    "plot(x, y, 'o', 'markersize', 12)\n",
    "for i = 1:length(x)\n",
    "    assert(norm(yy_test(i) - y(i)) < 1e-4);\n",
    "endfor\n",
    "legend(\"Aproximare\", \"Real\")"
   ]
  },
  {
   "cell_type": "markdown",
   "metadata": {
    "deletable": false,
    "editable": false,
    "nbgrader": {
     "cell_type": "markdown",
     "checksum": "b2408a561977a9c4fbbcecadfdc830ea",
     "grade": false,
     "grade_id": "cell-065ac5825e6c57cc",
     "locked": true,
     "schema_version": 3,
     "solution": false,
     "task": false
    }
   },
   "source": [
    "## Problema 3\n",
    "\n",
    "Implementati funcția ```newton(x, y)``` ce primește doi vectori linie, $x, y$, reprezentând coordonatele pe axele OX și OY ale unor puncte ce definesc suportul interpolării și returnează un vector linie, $P$, ce reprezintă coeficienții interpolării prin diferențe divizate ($b_0, b_1, ...$).\n",
    "\n",
    "Primul element al lui $P$ reprezintă coeficientul celei mai mari puteri.\n",
    "\n",
    "Ultimul element al lui $P$ reprezintă coeficientul celei mai mici puteri."
   ]
  },
  {
   "cell_type": "code",
   "execution_count": 6,
   "metadata": {
    "deletable": false,
    "nbgrader": {
     "cell_type": "code",
     "checksum": "8c3678d21a9445b06e894be62ab12f53",
     "grade": false,
     "grade_id": "cell-6761c22fa27d79cd",
     "locked": false,
     "schema_version": 3,
     "solution": true,
     "task": false
    }
   },
   "outputs": [],
   "source": [
    "% Functie care calculeaza recursiv coeficientul f[x_start, ..., x_stop]\n",
    "% Nu e obligatoriu sa o implementati\n",
    "function [b] = newton_helper(x, y, start, stop)\n",
    "\n",
    "    if start == stop \n",
    "        b = y(stop);\n",
    "    else \n",
    "        b = (newton_helper(x, y, start + 1, stop) - newton_helper(x, y, start, stop -1)) / (x(stop) - x(start));\n",
    "    endif\n",
    "    \n",
    "endfunction\n",
    "\n",
    "function [P] = newton(x, y)\n",
    "    n = length(x);\n",
    "    P = zeros(1, n);\n",
    "    for i = 1 : n\n",
    "        P(i) = newton_helper(x, y, 1, i);\n",
    "    endfor\n",
    "    P = flip(P);\n",
    "endfunction"
   ]
  },
  {
   "cell_type": "code",
   "execution_count": 7,
   "metadata": {
    "deletable": false,
    "editable": false,
    "nbgrader": {
     "cell_type": "code",
     "checksum": "1205fdce5f0338bad50650280a35896d",
     "grade": true,
     "grade_id": "cell-0d51add581d76a6a",
     "locked": true,
     "points": 2.5,
     "schema_version": 3,
     "solution": false,
     "task": false
    }
   },
   "outputs": [
    {
     "data": {
      "image/png": "[encoded data removed]",
      "text/plain": [
       "<IPython.core.display.Image object>"
      ]
     },
     "metadata": {},
     "output_type": "display_data"
    }
   ],
   "source": [
    "function [y] = newton_eval(P, xx, x)\n",
    "    y = 0;\n",
    "    p = 1;\n",
    "    for i = 1:length(P)\n",
    "        y += p .* P(length(P) - i + 1);\n",
    "        p = p .* (x - xx(i));\n",
    "    endfor\n",
    "endfunction\n",
    "\n",
    "function [y] = f(x)\n",
    "    y = x.^3 / 15 - 3;\n",
    "endfunction\n",
    "\n",
    "% Test 1\n",
    "x = sort((rand(1, 3) - 0.5) * 100);\n",
    "y = f(x);\n",
    "xx = linspace(min(x), max(x));\n",
    "P = newton(x, y);\n",
    "yy = newton_eval(P, x, xx);\n",
    "yy_test = newton_eval(P, x, x);\n",
    "\n",
    "subplot(3, 1, 1);\n",
    "hold;\n",
    "plot(xx, yy)\n",
    "plot(xx, f(xx))\n",
    "plot(x, y, 'o', 'markersize', 12)\n",
    "for i = 1:length(x)\n",
    "    assert(norm(yy_test(i) - y(i)) < 1e-4);\n",
    "endfor\n",
    "legend(\"Aproximare\", \"Real\")\n",
    "\n",
    "% Test 2\n",
    "x = sort((rand(1, 10) - 0.5) * 100);\n",
    "y = f(x);\n",
    "xx = linspace(min(x), max(x));\n",
    "P = newton(x, y);\n",
    "yy = newton_eval(P, x, xx);\n",
    "yy_test = newton_eval(P, x, x);\n",
    "\n",
    "subplot(3, 1, 2);\n",
    "hold;\n",
    "plot(xx, yy)\n",
    "plot(xx, f(xx))\n",
    "plot(x, y, 'o', 'markersize', 12)\n",
    "for i = 1:length(x)\n",
    "    assert(norm(yy_test(i) - y(i)) < 1e-4);\n",
    "endfor\n",
    "legend(\"Aproximare\", \"Real\")\n",
    "\n",
    "% Test 3\n",
    "x = sort((rand(1, 15) - 0.5) * 100);\n",
    "y = f(x);\n",
    "xx = linspace(min(x), max(x));\n",
    "P = newton(x, y);\n",
    "yy = newton_eval(P, x, xx);\n",
    "yy_test = newton_eval(P, x, x);\n",
    "\n",
    "subplot(3, 1, 3);\n",
    "hold;\n",
    "plot(xx, yy)\n",
    "plot(xx, f(xx))\n",
    "plot(x, y, 'o', 'markersize', 12)\n",
    "for i = 1:length(x)\n",
    "    assert(norm(yy_test(i) - y(i)) < 1e-4);\n",
    "endfor\n",
    "legend(\"Aproximare\", \"Real\")"
   ]
  },
  {
   "cell_type": "markdown",
   "metadata": {
    "deletable": false,
    "editable": false,
    "nbgrader": {
     "cell_type": "markdown",
     "checksum": "a003860d25119603b3a959aa690712d3",
     "grade": false,
     "grade_id": "cell-c29da95304d96909",
     "locked": true,
     "schema_version": 3,
     "solution": false,
     "task": false
    }
   },
   "source": [
    "## Problema 4\n",
    "\n",
    "Implementati funcția ```neville(x, y, xx)``` ce primește doi vectori linie, $x, y$, reprezentând coordonatele pe axele OX și OY ale unor puncte ce definesc suportul interpolării și un vector linie $xx$ pentru care vrem să găsim valorile aproximate și returnează un vector linie, $yy$, ce reprezintă valorile interpolării Neville cu suportul $x, y$ prin toate punctele $xx$."
   ]
  },
  {
   "cell_type": "code",
   "execution_count": 8,
   "metadata": {
    "deletable": false,
    "nbgrader": {
     "cell_type": "code",
     "checksum": "20b604a494e91bd23338f65963c359d0",
     "grade": false,
     "grade_id": "cell-3210d22275d2eb47",
     "locked": false,
     "schema_version": 3,
     "solution": true,
     "task": false
    }
   },
   "outputs": [],
   "source": [
    "% Functie care calculeaza recursiv P_ij(to_eval) pentru suportul [x, y]\n",
    "% Nu e obligatoriu sa o implementati\n",
    "function [res] = P(to_eval, x, y, i, j)\n",
    "   if i == j\n",
    "       res = y(i);\n",
    "    else\n",
    "        res = ( (to_eval - x(j) ) * P(to_eval, x, y, i, j-1) + \n",
    "        ( x(i) - to_eval ) * P(to_eval, x, y, i+1, j) ) / (x(i) - x(j));\n",
    "    endif\n",
    "endfunction\n",
    "\n",
    "function [yy] = neville(x, y, xx)\n",
    "    n = length(x);\n",
    "    m = length(xx);\n",
    "    for i = 1 : m\n",
    "        yy(i) = P(xx(i), x, y, 1, n);\n",
    "    endfor\n",
    "endfunction"
   ]
  },
  {
   "cell_type": "code",
   "execution_count": 9,
   "metadata": {
    "deletable": false,
    "editable": false,
    "nbgrader": {
     "cell_type": "code",
     "checksum": "aaf17a7e9012d764aed4271f00b9de4f",
     "grade": true,
     "grade_id": "cell-8ebb038ac186819f",
     "locked": true,
     "points": 2.5,
     "schema_version": 3,
     "solution": false,
     "task": false
    },
    "scrolled": true
   },
   "outputs": [
    {
     "data": {
      "image/png": "[encoded data removed]",
      "text/plain": [
       "<IPython.core.display.Image object>"
      ]
     },
     "metadata": {},
     "output_type": "display_data"
    }
   ],
   "source": [
    "function [y] = f(x)\n",
    "    y = 8 * sin(x / 2) ./ (abs(cos(x)) + 1);\n",
    "endfunction\n",
    "\n",
    "% Test 1\n",
    "x = sort((rand(1, 3) - 0.5) * 50);\n",
    "y = f(x);\n",
    "xx = linspace(min(x), max(x));\n",
    "yy = neville(x, y, xx);\n",
    "yy_test = neville(x, y, x);\n",
    "\n",
    "subplot(3, 1, 1);\n",
    "hold;\n",
    "plot(xx, yy)\n",
    "plot(xx, f(xx))\n",
    "plot(x, y, 'o', 'markersize', 12)\n",
    "for i = 1:length(x)\n",
    "    assert(norm(yy_test(i) - y(i)) < 1e-4);\n",
    "endfor\n",
    "legend(\"Aproximare\", \"Real\")\n",
    "\n",
    "% Test 2\n",
    "x = sort((rand(1, 7) - 0.5) * 50);\n",
    "y = f(x);\n",
    "xx = linspace(min(x), max(x));\n",
    "yy = neville(x, y, xx);\n",
    "yy_test = neville(x, y, x);\n",
    "\n",
    "subplot(3, 1, 2);\n",
    "hold;\n",
    "plot(xx, yy)\n",
    "plot(xx, f(xx))\n",
    "plot(x, y, 'o', 'markersize', 12)\n",
    "for i = 1:length(x)\n",
    "    assert(norm(yy_test(i) - y(i)) < 1e-4);\n",
    "endfor\n",
    "legend(\"Aproximare\", \"Real\")\n",
    "\n",
    "% Test 3\n",
    "x = sort((rand(1, 10) - 0.5) * 50);\n",
    "y = f(x);\n",
    "xx = linspace(min(x), max(x));\n",
    "yy = neville(x, y, xx);\n",
    "yy_test = neville(x, y, x);\n",
    "\n",
    "subplot(3, 1, 3);\n",
    "hold;\n",
    "plot(xx, yy)\n",
    "plot(xx, f(xx))\n",
    "plot(x, y, 'o', 'markersize', 12)\n",
    "for i = 1:length(x)\n",
    "    assert(norm(yy_test(i) - y(i)) < 1e-4);\n",
    "endfor\n",
    "legend(\"Aproximare\", \"Real\")"
   ]
  },
  {
   "cell_type": "markdown",
   "metadata": {
    "deletable": false,
    "editable": false,
    "nbgrader": {
     "cell_type": "markdown",
     "checksum": "e13833983a0f8b17f0491e54823260e3",
     "grade": false,
     "grade_id": "cell-df9b6f6b091c12cf",
     "locked": true,
     "schema_version": 3,
     "solution": false,
     "task": false
    }
   },
   "source": [
    "## Problema 5\n",
    "\n",
    "Implementati funcția ```spline_c2_natural(x, y)``` ce primește doi vectori linie, $x, y$, reprezentând coordonatele pe axele OX și OY ale unor puncte ce definesc suportul interpolării și returnează o matrice $S$ ce are pe linia i coeficienții $a_{i-1}, b_{i-1}, c_{i-1}, d_{i-1}$."
   ]
  },
  {
   "cell_type": "code",
   "execution_count": 10,
   "metadata": {
    "deletable": false,
    "nbgrader": {
     "cell_type": "code",
     "checksum": "2fa5d8434906341e00e4fc08c96612fb",
     "grade": false,
     "grade_id": "cell-fff77032e4d15bf7",
     "locked": false,
     "schema_version": 3,
     "solution": true,
     "task": false
    }
   },
   "outputs": [],
   "source": [
    "function [S] = spline_c2_natural(x, y)\n",
    "\n",
    "    n = length(x) - 1;                 %nr de solutii\n",
    "    A = zeros(4 * n);              %deci n-1 spline-uri\n",
    "    v = zeros(4*n, 1);\n",
    "    \n",
    "    %solutie\n",
    "    for i = 1 : n\n",
    "    \n",
    "        k = (i - 1)*4 + 1;\n",
    "        \n",
    "        A(i, k) = 1;\n",
    "        \n",
    "        v(i) = y(i);\n",
    "        \n",
    "    endfor\n",
    "    \n",
    "    p = x(n + 1) - x(n);\n",
    "    \n",
    "    A(n + 1, 4*n - 3) = 1;\n",
    "    A(n + 1, 4*n - 2) = p;\n",
    "    A(n + 1, 4*n - 1) = p^2;\n",
    "    A(n + 1, 4*n) = p^3;\n",
    "    v(n+1) = y(n+1);\n",
    "    %continuitate\n",
    "    for i = n + 2 : 2 * n\n",
    "    \n",
    "        k = (i - n - 2) * 4 + 1;\n",
    "        A(i, k) = 1;\n",
    "        \n",
    "        p = x(i - n) - x(i- n - 1);\n",
    "        \n",
    "        A(i, k + 1) = p;\n",
    "        A(i, k + 2) = p ^ 2;\n",
    "        A(i, k + 3) = p ^ 3;\n",
    "        A(i, k + 4) = -1;\n",
    "    endfor\n",
    "    \n",
    "    %derivata 1\n",
    "    for i = 2*n + 1 : 3*n - 1\n",
    "    \n",
    "        k = (i - 2*n - 1)*4 + 2;\n",
    "        \n",
    "        p = x(i - 2 * n + 1) - x(i - 2*n);\n",
    "        \n",
    "        A(i, k) = 1;\n",
    "        A(i, k + 1) = 2 * p;\n",
    "        A(i, k + 2) = 3 * p ^ 2;\n",
    "        A(i, k + 4) = -1;\n",
    "        \n",
    "    endfor\n",
    "    \n",
    "    %derivata 2\n",
    "    for i = 3 * n : 4 *n - 2\n",
    "    \n",
    "        k = (i - 3 * n)*4 + 3;\n",
    "        \n",
    "        p = x(i - 3*n + 2) - x(i - 3*n + 1);\n",
    "        \n",
    "        A(i, k) = 2;\n",
    "        A(i, k + 1) = 6*p;\n",
    "        A(i, k + 4) = -2;\n",
    "        \n",
    "    endfor\n",
    "    \n",
    "    A(4*n - 1, 3) = 1;\n",
    "    \n",
    "    p = x(n+1) - x(n-1);\n",
    "    A(4*n, 4*n - 3) = 1;\n",
    "    A(4*n, 4*n - 2) = p;\n",
    "    A(4*n, 4*n - 1) = p^2;\n",
    "    A(4*n, 4*n) = p^3;\n",
    "    \n",
    "    sol = A\\v;\n",
    "    S = zeros(n, 4);\n",
    "    k = 0;\n",
    "    for i = 1 : 4 : length(sol)\n",
    "        S(++k, 1 : 4) = sol(i:i+3);\n",
    "    endfor\n",
    "endfunction"
   ]
  },
  {
   "cell_type": "code",
   "execution_count": 11,
   "metadata": {
    "deletable": false,
    "editable": false,
    "nbgrader": {
     "cell_type": "code",
     "checksum": "61b747ec843b98a389b7f0a77f91929e",
     "grade": true,
     "grade_id": "cell-c3321c1907a49a31",
     "locked": true,
     "points": 2.5,
     "schema_version": 3,
     "solution": false,
     "task": false
    }
   },
   "outputs": [
    {
     "data": {
      "image/png": "[encoded data removed]",
      "text/plain": [
       "<IPython.core.display.Image object>"
      ]
     },
     "metadata": {},
     "output_type": "display_data"
    }
   ],
   "source": [
    "function [XX, YY] = spline_eval(S, x, y)\n",
    "    XX = [];\n",
    "    YY = [];\n",
    "    n = length(x) - 1;\n",
    "    for i = 1:n\n",
    "        s = S(i, :);\n",
    "        xx = linspace(x(i), x(i + 1));\n",
    "        yy = s(1);\n",
    "        yy += s(2) * (xx - repmat(x(i), 1, 100));\n",
    "        yy += s(3) * (xx - repmat(x(i), 1, 100)) .^ 2;\n",
    "        yy += s(4) * (xx - repmat(x(i), 1, 100)) .^ 3;\n",
    "        XX = [XX, xx];\n",
    "        YY = [YY, yy];\n",
    "    endfor\n",
    "endfunction\n",
    "\n",
    "function [y] = f(x)\n",
    "    y = 8 * sin(x / 2) ./ (abs(cos(x)) + 1);\n",
    "endfunction\n",
    "\n",
    "% Test 1\n",
    "x = sort((rand(1, 3) - 0.5) * 50);\n",
    "y = f(x);\n",
    "\n",
    "xx = linspace(min(x), max(x));\n",
    "S = spline_c2_natural(x, y);\n",
    "[XX, YY] = spline_eval(S, x, y);\n",
    "\n",
    "subplot(3, 1, 1);\n",
    "hold;\n",
    "plot(XX, YY)\n",
    "plot(XX, f(XX))\n",
    "plot(x, y, 'o', 'markersize', 12)\n",
    "for i = 1:length(x) - 1\n",
    "    assert(norm(YY(100 * (i - 1) + 1) - y(i)) < 1e-4);\n",
    "endfor\n",
    "assert(norm(YY(end) - y(end)) < 1e-4);\n",
    "legend(\"Aproximare\", \"Real\")\n",
    "\n",
    "% Test 2\n",
    "x = sort((rand(1, 10) - 0.5) * 50);\n",
    "y = f(x);\n",
    "\n",
    "xx = linspace(min(x), max(x));\n",
    "S = spline_c2_natural(x, y);\n",
    "[XX, YY] = spline_eval(S, x, y);\n",
    "\n",
    "subplot(3, 1, 2);\n",
    "hold;\n",
    "plot(XX, YY)\n",
    "plot(XX, f(XX))\n",
    "plot(x, y, 'o', 'markersize', 12)\n",
    "for i = 1:length(x) - 1\n",
    "    assert(norm(YY(100 * (i - 1) + 1) - y(i)) < 1e-4);\n",
    "endfor\n",
    "assert(norm(YY(end) - y(end)) < 1e-4);\n",
    "legend(\"Aproximare\", \"Real\")\n",
    "\n",
    "% Test 3\n",
    "x = sort((rand(1, 100) - 0.5) * 50);\n",
    "y = f(x);\n",
    "\n",
    "xx = linspace(min(x), max(x));\n",
    "S = spline_c2_natural(x, y);\n",
    "[XX, YY] = spline_eval(S, x, y);\n",
    "\n",
    "subplot(3, 1, 3);\n",
    "hold;\n",
    "plot(XX, YY)\n",
    "plot(XX, f(XX))\n",
    "plot(x, y, 'o', 'markersize', 12)\n",
    "for i = 1:length(x) - 1\n",
    "    assert(norm(YY(100 * (i - 1) + 1) - y(i)) < 1e-4);\n",
    "endfor\n",
    "assert(norm(YY(end) - y(end)) < 1e-4);\n",
    "legend(\"Aproximare\", \"Real\")"
   ]
  },
  {
   "cell_type": "code",
   "execution_count": 17,
   "metadata": {},
   "outputs": [
    {
     "data": {
      "image/png": "[encoded data removed]",
      "text/plain": [
       "<IPython.core.display.Image object>"
      ]
     },
     "metadata": {},
     "output_type": "display_data"
    }
   ],
   "source": [
    "y = [4.687 3.519 2.343 1.759 1.406 1.279 1.172 1.081 1.004 0.878];\n",
    "x = [6.662 5.002 3.331 2.501 1.999 1.818 1.667 1.537 1.428 1.248];\n",
    "\n",
    "plot(x,y);\n",
    "hold on;\n",
    "plot(x, y,'o', 'markersize', 12)\n",
    "\n",
    "xlabel('sigma');\n",
    "ylabel('lambda');"
   ]
  },
  {
   "cell_type": "code",
   "execution_count": null,
   "metadata": {},
   "outputs": [],
   "source": []
  }
 ],
 "metadata": {
  "kernelspec": {
   "display_name": "Octave",
   "language": "octave",
   "name": "octave"
  },
  "language_info": {
   "file_extension": ".m",
   "help_links": [
    {
     "text": "GNU Octave",
     "url": "https://www.gnu.org/software/octave/support.html"
    },
    {
     "text": "Octave Kernel",
     "url": "https://github.com/Calysto/octave_kernel"
    },
    {
     "text": "MetaKernel Magics",
     "url": "https://metakernel.readthedocs.io/en/latest/source/README.html"
    }
   ],
   "mimetype": "text/x-octave",
   "name": "octave",
   "version": "4.2.2"
  }
 },
 "nbformat": 4,
 "nbformat_minor": 4
}

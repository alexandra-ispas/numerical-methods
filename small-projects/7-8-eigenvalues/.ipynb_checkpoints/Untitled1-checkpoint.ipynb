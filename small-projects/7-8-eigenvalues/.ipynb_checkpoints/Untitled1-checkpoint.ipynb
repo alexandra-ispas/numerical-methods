{
 "cells": [
  {
   "cell_type": "markdown",
   "metadata": {},
   "source": [
    "# QR"
   ]
  },
  {
   "cell_type": "markdown",
   "metadata": {},
   "source": [
    "Implementati funcția ```qr_algorithm(A, max_steps)``` ce primește o matrice $A$ simetrică și un număr maxim de pași, $max\\_steps$, și returnează o matrice $X$ care are pe fiecare coloană câte un vector propriu normat (de la cel mai dominant la cel mai puțin dominant), un vector linie $l$ ce conține toate valorile proprii (de la cea mai dominantă la aceea cel mai puțin dominantă) și $total_steps$, numărul total de pași (suma pașilor făcuți pentru fiecare metodă a puterii).\n",
    "\n",
    "HINT: $X = Q_1 * Q_2 * ...$"
   ]
  },
  {
   "cell_type": "code",
   "execution_count": 1,
   "metadata": {},
   "outputs": [],
   "source": [
    "function [X, l, steps] = qr_algorithm(A, max_steps)\n",
    "    steps = 0;\n",
    "    X = eye(length(A));\n",
    "    prev_A = A;\n",
    "    \n",
    "    while 1\n",
    "    \n",
    "        [Q, R] = qr(A);\n",
    "        \n",
    "        A = R * Q;\n",
    "        \n",
    "        X = X * Q;\n",
    "       \n",
    "        if diag(A) == diag(prev_A)\n",
    "           l = diag(A)';\n",
    "           return;\n",
    "        endif\n",
    "        \n",
    "        prev_A = A;\n",
    "        \n",
    "   endwhile\n",
    "endfunction"
   ]
  },
  {
   "cell_type": "markdown",
   "metadata": {},
   "source": [
    "# Vandermode"
   ]
  },
  {
   "cell_type": "markdown",
   "metadata": {},
   "source": [
    "Implementati funcția ```vandermonde(x, y)``` ce primește doi vectori linie, $x, y$, reprezentând coordonatele pe axele OX și OY ale unor puncte ce definesc suportul interpolării și returnează un vector coloană, $P$, ce reprezintă polinomul care trece prin toate punctele.\n",
    "\n",
    "Primul element al lui $P$ reprezintă coeficientul celei mai mari puteri.\n",
    "\n",
    "Ultimul element al lui $P$ reprezintă coeficientul celei mai mici puteri ($x^0$)."
   ]
  },
  {
   "cell_type": "code",
   "execution_count": 2,
   "metadata": {},
   "outputs": [],
   "source": [
    "function [P] = vandermonde(x, y)\n",
    "    A = fliplr(vander(x));\n",
    "    y = y';\n",
    "    P = A\\y;\n",
    "    P = flip(P);\n",
    "endfunction"
   ]
  },
  {
   "cell_type": "markdown",
   "metadata": {},
   "source": [
    "\n",
    "# Lagrange\n"
   ]
  },
  {
   "cell_type": "markdown",
   "metadata": {},
   "source": [
    "Implementati funcția ```lagrange(x, y, xx)``` ce primește doi vectori linie, $x, y$, reprezentând coordonatele pe axele OX și OY ale unor puncte ce definesc suportul interpolării și un vector linie $xx$ pentru care vrem să găsim valorile aproximate și returnează un vector linie, $yy$, ce reprezintă valorile interpolării Lagrange cu suportul $x, y$ prin toate punctele $xx$."
   ]
  },
  {
   "cell_type": "code",
   "execution_count": 3,
   "metadata": {},
   "outputs": [],
   "source": [
    "function [yy] = lagrange(x, y, xx)\n",
    "\n",
    "yy = zeros(1, length(xx));\n",
    "\n",
    "n = length(x);\n",
    "\n",
    "    for i = 1 : n\n",
    "\n",
    "        radacini = x;\n",
    "    \n",
    "        a = radacini(i);\n",
    "    \n",
    "        radacini(i) = [];\n",
    "    \n",
    "        coef = poly(radacini);\n",
    "    \n",
    "        q = polyval(coef, a);\n",
    "   \n",
    "        yy(i) = y(i) * polyval(coef, xx(i)) ./q; \n",
    "    \n",
    "    endfor\n",
    "endfunction"
   ]
  },
  {
   "cell_type": "markdown",
   "metadata": {},
   "source": [
    "# Newton ( Diferente Divizate')"
   ]
  },
  {
   "cell_type": "markdown",
   "metadata": {},
   "source": [
    "Implementati funcția ```newton(x, y)``` ce primește doi vectori linie, $x, y$, reprezentând coordonatele pe axele OX și OY ale unor puncte ce definesc suportul interpolării și returnează un vector linie, $P$, ce reprezintă coeficienții interpolării prin diferențe divizate ($b_0, b_1, ...$).\n",
    "\n",
    "Primul element al lui $P$ reprezintă coeficientul celei mai mari puteri.\n",
    "\n",
    "Ultimul element al lui $P$ reprezintă coeficientul celei mai mici puteri."
   ]
  },
  {
   "cell_type": "code",
   "execution_count": 4,
   "metadata": {},
   "outputs": [],
   "source": [
    "% Functie care calculeaza recursiv coeficientul f[x_start, ..., x_stop]\n",
    "% Nu e obligatoriu sa o implementati\n",
    "function [b] = newton_helper(x, y, start, stop)\n",
    "\n",
    "    if start == stop \n",
    "        b = y(stop);\n",
    "    else \n",
    "        b = (newton_helper(x, y, start + 1, stop) - newton_helper(x, y, start, stop -1)) / (x(stop) - x(start));\n",
    "    endif\n",
    "    \n",
    "endfunction\n",
    "\n",
    "function [P] = newton(x, y)\n",
    "    n = length(x);\n",
    "    P = zeros(1, n);\n",
    "    for i = 1 : n\n",
    "        P(i) = newton_helper(x, y, 1, i);\n",
    "    endfor\n",
    "    P = flip(P);\n",
    "endfunction"
   ]
  },
  {
   "cell_type": "markdown",
   "metadata": {},
   "source": [
    "# Neville"
   ]
  },
  {
   "cell_type": "markdown",
   "metadata": {},
   "source": [
    "Implementati funcția ```neville(x, y, xx)``` ce primește doi vectori linie, $x, y$, reprezentând coordonatele pe axele OX și OY ale unor puncte ce definesc suportul interpolării și un vector linie $xx$ pentru care vrem să găsim valorile aproximate și returnează un vector linie, $yy$, ce reprezintă valorile interpolării Neville cu suportul $x, y$ prin toate punctele $xx$."
   ]
  },
  {
   "cell_type": "code",
   "execution_count": 5,
   "metadata": {},
   "outputs": [],
   "source": [
    "% Functie care calculeaza recursiv P_ij(to_eval) pentru suportul [x, y]\n",
    "% Nu e obligatoriu sa o implementati\n",
    "function [res] = P(to_eval, x, y, i, j)\n",
    "   if i == j\n",
    "       res = y(i);\n",
    "    else\n",
    "        res = ( (to_eval - x(j) ) * P(to_eval, x, y, i, j-1) + \n",
    "        ( x(i) - to_eval ) * P(to_eval, x, y, i+1, j) ) / (x(i) - x(j));\n",
    "    endif\n",
    "endfunction\n",
    "\n",
    "function [yy] = neville(x, y, xx)\n",
    "    n = length(x);\n",
    "    m = length(xx);\n",
    "    for i = 1 : m\n",
    "        yy(i) = P(xx(i), x, y, 1, n);\n",
    "    endfor\n",
    "endfunction"
   ]
  },
  {
   "cell_type": "markdown",
   "metadata": {},
   "source": [
    "# Spline Natural\n"
   ]
  },
  {
   "cell_type": "markdown",
   "metadata": {},
   "source": [
    "Implementati funcția ```spline_c2_natural(x, y)``` ce primește doi vectori linie, $x, y$, reprezentând coordonatele pe axele OX și OY ale unor puncte ce definesc suportul interpolării și returnează o matrice $S$ ce are pe linia i coeficienții $a_{i-1}, b_{i-1}, c_{i-1}, d_{i-1}$."
   ]
  },
  {
   "cell_type": "code",
   "execution_count": 6,
   "metadata": {},
   "outputs": [],
   "source": [
    "function [S] = spline_c2_natural(x, y)\n",
    "\n",
    "    n = length(x) - 1;                 %nr de solutii\n",
    "    A = zeros(4 * n);              %deci n-1 spline-uri\n",
    "    v = zeros(4*n, 1);\n",
    "    \n",
    "    %solutie\n",
    "    for i = 1 : n\n",
    "    \n",
    "        k = (i - 1)*4 + 1;\n",
    "        \n",
    "        A(i, k) = 1;\n",
    "        \n",
    "        v(i) = y(i);\n",
    "        \n",
    "    endfor\n",
    "    \n",
    "    p = x(n + 1) - x(n);\n",
    "    \n",
    "    A(n + 1, 4*n - 3) = 1;\n",
    "    A(n + 1, 4*n - 2) = p;\n",
    "    A(n + 1, 4*n - 1) = p^2;\n",
    "    A(n + 1, 4*n) = p^3;\n",
    "    v(n+1) = y(n+1);\n",
    "    %continuitate\n",
    "    for i = n + 2 : 2 * n\n",
    "    \n",
    "        k = (i - n - 2) * 4 + 1;\n",
    "        A(i, k) = 1;\n",
    "        \n",
    "        p = x(i - n) - x(i- n - 1);\n",
    "        \n",
    "        A(i, k + 1) = p;\n",
    "        A(i, k + 2) = p ^ 2;\n",
    "        A(i, k + 3) = p ^ 3;\n",
    "        A(i, k + 4) = -1;\n",
    "    endfor\n",
    "    \n",
    "    %derivata 1\n",
    "    for i = 2*n + 1 : 3*n - 1\n",
    "    \n",
    "        k = (i - 2*n - 1)*4 + 2;\n",
    "        \n",
    "        p = x(i - 2 * n + 1) - x(i - 2*n);\n",
    "        \n",
    "        A(i, k) = 1;\n",
    "        A(i, k + 1) = 2 * p;\n",
    "        A(i, k + 2) = 3 * p ^ 2;\n",
    "        A(i, k + 4) = -1;\n",
    "        \n",
    "    endfor\n",
    "    \n",
    "    %derivata 2\n",
    "    for i = 3 * n : 4 *n - 2\n",
    "    \n",
    "        k = (i - 3 * n)*4 + 3;\n",
    "        \n",
    "        p = x(i - 3*n + 2) - x(i - 3*n + 1);\n",
    "        \n",
    "        A(i, k) = 2;\n",
    "        A(i, k + 1) = 6*p;\n",
    "        A(i, k + 4) = -2;\n",
    "        \n",
    "    endfor\n",
    "    \n",
    "    A(4*n - 1, 3) = 1;\n",
    "    \n",
    "    p = x(n+1) - x(n-1);\n",
    "    A(4*n, 4*n - 3) = 1;\n",
    "    A(4*n, 4*n - 2) = p;\n",
    "    A(4*n, 4*n - 1) = p^2;\n",
    "    A(4*n, 4*n) = p^3;\n",
    "    \n",
    "    sol = A\\v;\n",
    "    S = zeros(n, 4);\n",
    "    k = 0;\n",
    "    for i = 1 : 4 : length(sol)\n",
    "        S(++k, 1 : 4) = sol(i:i+3);\n",
    "    endfor\n",
    "endfunction"
   ]
  },
  {
   "cell_type": "markdown",
   "metadata": {},
   "source": [
    "# Fourier"
   ]
  },
  {
   "cell_type": "markdown",
   "metadata": {},
   "source": [
    "Implementati funcția ```create_fourier_matrix(N)``` ce primește $N$, numărul de sample-uri, și returnează matricea F pentru DFT."
   ]
  },
  {
   "cell_type": "code",
   "execution_count": 7,
   "metadata": {},
   "outputs": [],
   "source": [
    "function [F] = create_fourier_matrix(N)\n",
    "   F = ones(N);\n",
    "   w = exp((2 * pi * i) /N);\n",
    "    \n",
    "    for i = 2 : N \n",
    "      \n",
    "         p = 0 : (i-1) : (i-1)*(N - 1);\n",
    "         F(:, i) = w .^ p;\n",
    "    endfor\n",
    "    \n",
    "endfunction"
   ]
  },
  {
   "cell_type": "markdown",
   "metadata": {},
   "source": [
    "# FFT"
   ]
  },
  {
   "cell_type": "markdown",
   "metadata": {},
   "source": [
    "Implementati funcția ```create_fft_matrix(N)``` ce primește $N$, numărul de sample-uri, și returnează matricea F pentru DFT construită cu ajutorul FFT."
   ]
  },
  {
   "cell_type": "code",
   "execution_count": 8,
   "metadata": {},
   "outputs": [],
   "source": [
    "function [F] = create_fft_matrix(N)\n",
    "   M = N / 2;\n",
    "   p = 0:1:(M-1);\n",
    "   w = exp((2 * pi * i) /N);\n",
    "   Dm = diag(w .^ p);\n",
    "   \n",
    "   Im = eye(M);\n",
    "   Fm = create_fourier_matrix(M);\n",
    "   O = zeros(M);\n",
    "   \n",
    "   M1 = [Im Dm; Im -Dm];\n",
    "   M2 = [Fm, O; O, Fm];\n",
    "   \n",
    "   v = 1:N;\n",
    "   \n",
    "   M3 = eye(N)([v(mod(v,2) == 1), v(mod(v,2) == 0)], :);\n",
    "   \n",
    "   F = M1 * M2 * M3;\n",
    "endfunction"
   ]
  },
  {
   "cell_type": "markdown",
   "metadata": {},
   "source": [
    "# Plot Trapezoidal + Simpson"
   ]
  },
  {
   "cell_type": "code",
   "execution_count": 9,
   "metadata": {},
   "outputs": [],
   "source": [
    "function plot_trapezoidal(f, a, b, n)\n",
    "    hold;\n",
    "    xx = linspace(a, b);\n",
    "    h = (b - a) / n;\n",
    "    plot(xx, f(xx), 'b');\n",
    "    for x = a:h:b-h\n",
    "        plot([x, x+h], [f(x), f(x+h)], 'r');\n",
    "    endfor\n",
    "    plot([a:h:b], f([a:h:b]), 'o', 'markersize', 10);\n",
    "endfunction\n",
    "\n",
    "function plot_simpson(f, a, b, n)\n",
    "    hold;\n",
    "    xx = linspace(a, b);\n",
    "    h = (b - a) / (2*n);\n",
    "    plot(xx, f(xx), 'b');\n",
    "    for x = a:2*h:b-h\n",
    "        L = polyfit([x, x+h, x+2*h], [f(x), f(x+h), f(x+2*h)], 2);\n",
    "        xx = linspace(x, x+2*h);\n",
    "        yy = polyval(L, xx);\n",
    "        plot(xx, yy, 'r');\n",
    "    endfor\n",
    "    plot([a:h:b], f([a:h:b]), 'o', 'markersize', 10);\n",
    "endfunction"
   ]
  },
  {
   "cell_type": "markdown",
   "metadata": {},
   "source": [
    "# Tranpezoidal\n",
    "Implementati funcția ```trapezoidal(f, a, b, n)``` ce primește un handle la o funcție $f$, un interval, $[a, b]$, un număr de subintervale, $n$, și returnează valoarea integralei numerice aproximate cu regula trapezelor."
   ]
  },
  {
   "cell_type": "code",
   "execution_count": 10,
   "metadata": {},
   "outputs": [],
   "source": [
    "function [T] = trapezoidal(f, a, b, n)\n",
    "    T = 0;\n",
    "    p = double(b / n);\n",
    "    for i = 0 : n - 1\n",
    "        %intervalul meu este [a + i *b/n, a+(i+1)*b/n]\n",
    "        T += 1/2 * (f( a + i * p) + f(a + (i + 1) * p)) * p;\n",
    "    endfor\n",
    "endfunction"
   ]
  },
  {
   "cell_type": "markdown",
   "metadata": {},
   "source": [
    "## Romberg\n",
    "\n",
    "Implementati funcția ```romberg(f, a, b, n)``` ce primește un handle la o funcție $f$, un interval, $[a, b]$, un număr $n$ și returnează valoarea integralei numerice aproximate cu Romberg ($R(n, n)$)."
   ]
  },
  {
   "cell_type": "code",
   "execution_count": 11,
   "metadata": {},
   "outputs": [],
   "source": [
    "function [R] = romberg(f, a, b, n)\n",
    "  % trapezoidal(f, a, b, n)\n",
    "  \n",
    "  H = b - a;\n",
    "  for i = 1 : n + 1\n",
    "      R_prev = trapezoidal(f, a, b, 2^(i - 1));\n",
    "  endfor\n",
    "  \n",
    "  for j = 1 : n\n",
    "      \n",
    "      R = zeros(length(R_prev) - 1, 1);\n",
    "      for i = 2 : length(R_prev)\n",
    "          \n",
    "          R(i - 1) = R_prev(i) + (R_prev(i) - R_prev(i - 1)) / (2 ^ (2 * j) - 1);\n",
    "      endfor\n",
    "      R_prev = R;\n",
    "  endfor\n",
    "endfunction"
   ]
  },
  {
   "cell_type": "markdown",
   "metadata": {},
   "source": [
    "# Plot Taylor"
   ]
  },
  {
   "cell_type": "code",
   "execution_count": 12,
   "metadata": {},
   "outputs": [],
   "source": [
    "function plot_taylor(f, t0, x0, h, N, approx)\n",
    "    xx = linspace(t0, t0 + N * h);\n",
    "    hold;\n",
    "    plot(xx, f(xx));\n",
    "    plot([x0:h:x0+N*h], approx, '.', 'markersize', 14);\n",
    "endfunction"
   ]
  },
  {
   "cell_type": "markdown",
   "metadata": {},
   "source": [
    "## Taylor_1\n",
    "\n",
    "Implementati funcția ```taylor_1(df, t0, x0, h, N)``` ce primește un handle la o funcție $df$ de doi parametri ($t, x$) ce reprezintă derivata lui $x(t)$, un timp inițial $t_0$, o valoare inițială a lui $x(t_0) = x_0$, mărimea unui pas, $h$, și numărul total de pași, $N$, și returnează un vector linie cu toate valorile aproximate $x(t_k)$ cu $k = 0..N$.\n",
    "\n",
    "Taylor 1 = Euler"
   ]
  },
  {
   "cell_type": "code",
   "execution_count": 13,
   "metadata": {},
   "outputs": [],
   "source": [
    "function [values] = taylor_1(df, t0, x0, h, N)\n",
    "   values = zeros(1, N + 1);\n",
    "   values(1) = x0;\n",
    "   t_prev = t0;\n",
    "   tk = t0 + h;\n",
    "   \n",
    "   for i = 2 : N + 1\n",
    " \n",
    "      xk = values(i - 1);\n",
    "      values(i) = xk + h * df(tk, xk);\n",
    "      t_prev = tk;\n",
    "      tk = t_prev + h;\n",
    "      \n",
    "   endfor\n",
    "endfunction"
   ]
  },
  {
   "cell_type": "markdown",
   "metadata": {},
   "source": [
    "## Taylor 2\n",
    "\n",
    "Implementati funcția ```taylor_2(df, dfdt, dfdx, t0, x0, h, N)``` ce primește un handle la o funcție $df$ de doi parametri ($t, x$), ce reprezintă derivata lui $x(t)$, un handle la o funcție $dfdt$ (derivata parțială față de $t$ a lui $df$), un handle la o funcție $dfdx$ (derivata parțială față de $x$ a lui $df$), un timp inițial $t_0$, o valoare inițială a lui $x(t_0) = x_0$, mărimea unui pas, $h$, și numărul total de pași, $N$, și returnează un vector linie cu toate valorile aproximate $x(t_k)$ cu $k = 0..N$."
   ]
  },
  {
   "cell_type": "code",
   "execution_count": 14,
   "metadata": {},
   "outputs": [],
   "source": [
    "function [values] = taylor_2(df, dfdt, dfdx, t0, x0, h, N)\n",
    "   values = zeros(1, N+1);\n",
    "   values(1) = x0;\n",
    "   for i = 2 : N + 1\n",
    "       tk = t0 + h * (i - 2);\n",
    "       xk = values(i - 1);\n",
    "       values(i) = xk + h * df(tk, xk) + 1/2 * h^2 * (dfdt(tk) + dfdx(xk) * df(tk, xk));\n",
    "    endfor\n",
    "endfunction "
   ]
  },
  {
   "cell_type": "markdown",
   "metadata": {},
   "source": [
    "## Runge-Kutta 2\n",
    "Implementati funcția ```rk2_heun(df, t0, x0, h, N)``` ce primește un handle la o funcție $df$ de doi parametri ($t, x$), ce reprezintă derivata lui $x(t)$, un timp inițial $t_0$, o valoare inițială a lui $x(t_0) = x_0$, mărimea unui pas, $h$, și numărul total de pași, $N$, și returnează un vector linie cu toate valorile aproximate $x(t_k)$ cu $k = 0..N$."
   ]
  },
  {
   "cell_type": "code",
   "execution_count": 15,
   "metadata": {},
   "outputs": [],
   "source": [
    "function [values] = rk2_heun(df, t0, x0, h, N)\n",
    "   values = zeros(1, N+1);\n",
    "   values(1) = x0;\n",
    "   \n",
    "   for i = 2 : N + 1\n",
    "       tk = t0 + h * (i - 2);\n",
    "       xk = values(i - 1);\n",
    "       k1 = h * df(tk, xk);\n",
    "       k2 = h * df(tk + h, xk + k1);\n",
    "       values(i) = xk + 1/2 *(k1 + k2);\n",
    "    endfor\n",
    "endfunction"
   ]
  },
  {
   "cell_type": "markdown",
   "metadata": {},
   "source": [
    "## Runge-Kutta 4\n",
    "\n",
    "Implementati funcția ```rk4_classic(df, t0, x0, h, N)``` ce primește un handle la o funcție $df$ de doi parametri ($t, x$), ce reprezintă derivata lui $x(t)$, un timp inițial $t_0$, o valoare inițială a lui $x(t_0) = x_0$, mărimea unui pas, $h$, și numărul total de pași, $N$, și returnează un vector linie cu toate valorile aproximate $x(t_k)$ cu $k = 0..N$."
   ]
  },
  {
   "cell_type": "code",
   "execution_count": 16,
   "metadata": {},
   "outputs": [],
   "source": [
    "function [values] = rk4_classic(df, t0, x0, h, N)\n",
    "\n",
    "   values = zeros(1, N+1);\n",
    "   \n",
    "   values(1) = x0;\n",
    "   \n",
    "   for i = 2:N+1\n",
    "   \n",
    "       tk = t0 + h * (i - 2);\n",
    "       \n",
    "       xk = values(i - 1);\n",
    "       \n",
    "       k1 = h * df(tk, xk);\n",
    "       \n",
    "       k2 = h * df(tk + 1/2 * h, xk + 1/2 * k1);\n",
    "       \n",
    "       k3 = h * df(tk + 1/2 * h, xk + 1/2 * k2);\n",
    "       \n",
    "       k4 = h * df(tk + h, xk + k3);\n",
    "       \n",
    "       values(i) = xk + 1/6 * (k1 + 2 * k2 + 2 * k3 + k4);\n",
    "       \n",
    "    endfor\n",
    "    \n",
    "endfunction"
   ]
  },
  {
   "cell_type": "markdown",
   "metadata": {},
   "source": [
    "## Adam-Bashforth 2\n",
    "\n",
    "Implementati funcția ```ab2_explicit(df, t0, x0, h, N, initial_approximator)``` ce primește un handle la o funcție $df$ de doi parametri ($t, x$), ce reprezintă derivata lui $x(t)$, un timp inițial $t_0$, o valoare inițială a lui $x(t_0) = x_0$, mărimea unui pas, $h$, numărul total de pași, $N$, și un handle la o funcție ce va fi folosită pentru aproximarea inițială a lui $x_1$ și returnează un vector linie cu toate valorile aproximate $x(t_k)$ cu $k = 0..N$."
   ]
  },
  {
   "cell_type": "code",
   "execution_count": 17,
   "metadata": {},
   "outputs": [],
   "source": [
    "function [values, t] = ab2_explicit(df, t0, x0, h, N, initial_approximator)\n",
    "    values = zeros(1, N + 1);\n",
    "    t = zeros(1, N+1);\n",
    "    res = initial_approximator(df, t0, x0, h, 1);\n",
    "    \n",
    "    t(1) = t0;\n",
    "    t(2) = t0 + h;\n",
    "    \n",
    "    values(1 : 2) = res;\n",
    "    \n",
    "    for i = 3 : N + 1\n",
    "        tk_1 = t0 + h * (i - 3);\n",
    "        tk = t0 + h * (i - 2);\n",
    "        \n",
    "        t(i) = t(i-1) + h;\n",
    "        \n",
    "        xk_1 = values(i - 2);\n",
    "        xk = values(i - 1);\n",
    "        \n",
    "        values(i) = xk + h / 2 * (3 * df(tk, xk) - df(tk_1, xk_1));\n",
    "        \n",
    "    endfor\n",
    "endfunction"
   ]
  },
  {
   "cell_type": "markdown",
   "metadata": {},
   "source": [
    "## Adam-Bashforth Multistep (!!!)\n",
    "\n",
    "Implementati funcția ```abm_multistep(df, t0, x0, h, N, initial_approximator)``` ce primește un handle la o funcție $df$ de doi parametri ($t, x$), ce reprezintă derivata lui $x(t)$, un timp inițial $t_0$, o valoare inițială a lui $x(t_0) = x_0$, mărimea unui pas, $h$, numărul total de pași, $N$, și un handle la o funcție ce va fi folosită pentru aproximarea inițială a lui $x_1$ și returnează un vector linie cu toate valorile aproximate $x(t_k)$ cu $k = 0..N$."
   ]
  },
  {
   "cell_type": "code",
   "execution_count": 18,
   "metadata": {},
   "outputs": [],
   "source": [
    "function [values] = abm_multistep(df, t0, x0, h, N, initial_approximator)\n",
    "\n",
    "    values = zeros(1, N + 1);\n",
    "    \n",
    "    values(1) = x0;\n",
    "    \n",
    "    [x_star, t] = ab2_explicit(df, t0, x0, h, N, initial_approximator);\n",
    "    \n",
    "    f_star = df(t, x_star);\n",
    "    \n",
    "    for i = 2 : N + 1\n",
    "        \n",
    "        fn = df( t(i-1), values(i - 1) );\n",
    "        \n",
    "        values(i) = values(i - 1) + h/2 * (f_star(i) + fn);\n",
    "        \n",
    "    endfor\n",
    "    \n",
    "endfunction"
   ]
  },
  {
   "cell_type": "code",
   "execution_count": 19,
   "metadata": {},
   "outputs": [
    {
     "name": "stdout",
     "output_type": "stream",
     "text": [
      "error: assert (err / N < 5e-5) failed\r\n",
      "error: called from\r\n",
      "    assert at line 92 column 11\r\n"
     ]
    },
    {
     "data": {
      "image/png": "[encoded data removed]",
      "text/plain": [
       "<IPython.core.display.Image object>"
      ]
     },
     "metadata": {},
     "output_type": "display_data"
    }
   ],
   "source": [
    "function [y] = f(t)\n",
    "    y = t .* exp(-t);\n",
    "endfunction\n",
    "\n",
    "function [y] = df(t, x)\n",
    "    y = -x + exp(-t);\n",
    "endfunction\n",
    "\n",
    "t0 = 0; x0 = 0; h = 0.5; N = 6;\n",
    "res = abm_multistep(@df, t0, x0, h, N, @rk4_classic);\n",
    "err = norm(res - f([t0:h:t0+N*h]));\n",
    "assert(err / N < 5e-2);\n",
    "subplot(4, 1, 1);\n",
    "plot_taylor(@f, t0, x0, h, N, res);\n",
    "\n",
    "t0 = 0; x0 = 0; h = 0.25; N = 12;\n",
    "res = abm_multistep(@df, t0, x0, h, N, @rk4_classic);\n",
    "err = norm(res - f([t0:h:t0+N*h]));\n",
    "assert(err / N < 5e-2);\n",
    "subplot(4, 1, 2);\n",
    "plot_taylor(@f, t0, x0, h, N, res);\n",
    "\n",
    "t0 = 0; x0 = 0; h = 0.1; N = 30;\n",
    "res = abm_multistep(@df, t0, x0, h, N, @rk4_classic);\n",
    "err = norm(res - f([t0:h:t0+N*h]));\n",
    "assert(err / N < 5e-4);\n",
    "subplot(4, 1, 3);\n",
    "plot_taylor(@f, t0, x0, h, N, res);\n",
    "\n",
    "t0 = 0; x0 = 0; h = 0.05; N = 60;\n",
    "res = abm_multistep(@df, t0, x0, h, N, @rk4_classic);\n",
    "err = norm(res - f([t0:h:t0+N*h]));\n",
    "assert(err / N < 5e-5);\n",
    "subplot(4, 1, 4);\n",
    "plot_taylor(@f, t0, x0, h, N, res);\n",
    "\n",
    "pos = get(gcf,'Position');\n",
    "pos(3) *= 1.5;\n",
    "pos(4) *= 3;\n",
    "set(gcf, 'Position', pos);"
   ]
  }
 ],
 "metadata": {
  "kernelspec": {
   "display_name": "Octave",
   "language": "octave",
   "name": "octave"
  },
  "language_info": {
   "file_extension": ".m",
   "help_links": [
    {
     "text": "GNU Octave",
     "url": "https://www.gnu.org/software/octave/support.html"
    },
    {
     "text": "Octave Kernel",
     "url": "https://github.com/Calysto/octave_kernel"
    },
    {
     "text": "MetaKernel Magics",
     "url": "https://metakernel.readthedocs.io/en/latest/source/README.html"
    }
   ],
   "mimetype": "text/x-octave",
   "name": "octave",
   "version": "4.2.2"
  }
 },
 "nbformat": 4,
 "nbformat_minor": 4
}

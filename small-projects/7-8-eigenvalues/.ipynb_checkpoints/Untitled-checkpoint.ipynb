{
 "cells": [
  {
   "cell_type": "code",
   "execution_count": 7,
   "metadata": {},
   "outputs": [],
   "source": [
    "function [v] = rank(M, d, v_quadratic_error)\n",
    " \n",
    "N = size(M, 2); % N is equal to half the size of M\n",
    "v = rand(N, 1);\n",
    "v = v ./ norm(v, 2);\n",
    "last_v = ones(N, 1) * inf;\n",
    "M_hat = (d .* M) + (((1 - d) / N) .* ones(N, N));\n",
    " \n",
    "while(norm(v - last_v, 2) > v_quadratic_error)\n",
    "\tlast_v = v;\n",
    "\tv = M_hat * v;\n",
    "\tv = v ./ norm(v, 2);\n",
    "end\n",
    " \n",
    "endfunction"
   ]
  },
  {
   "cell_type": "code",
   "execution_count": 8,
   "metadata": {},
   "outputs": [
    {
     "name": "stdout",
     "output_type": "stream",
     "text": [
      "M =\r\n",
      "\r\n",
      "   0.00000   0.33333   0.33333   0.33333   0.00000   0.00000   0.00000\r\n",
      "   0.00000   0.00000   0.33333   0.33333   0.33333   0.00000   0.00000\r\n",
      "   0.20000   0.20000   0.00000   0.00000   0.20000   0.20000   0.20000\r\n",
      "   0.20000   0.20000   0.20000   0.00000   0.00000   0.20000   0.20000\r\n",
      "   0.00000   0.00000   0.00000   0.33333   0.00000   0.33333   0.33333\r\n",
      "   0.33333   0.00000   0.00000   0.33333   0.33333   0.00000   0.00000\r\n",
      "   0.25000   0.25000   0.25000   0.00000   0.25000   0.00000   0.00000\r\n",
      "\r\n"
     ]
    }
   ],
   "source": [
    "M = [0.00000   0.33333   0.33333   0.33333   0.00000   0.00000   0.00000;\n",
    "   0.00000   0.00000   0.33333   0.33333   0.33333   0.00000   0.00000;\n",
    "   0.20000   0.20000   0.00000   0.00000   0.20000   0.20000   0.20000;\n",
    "   0.20000   0.20000   0.20000   0.00000   0.00000   0.20000   0.20000;\n",
    "   0.00000   0.00000   0.00000   0.33333   0.00000   0.33333   0.33333;\n",
    "   0.33333   0.00000   0.00000   0.33333   0.33333   0.00000   0.00000;\n",
    "   0.25000   0.25000   0.25000   0.00000   0.25000   0.00000   0.00000]"
   ]
  },
  {
   "cell_type": "code",
   "execution_count": 9,
   "metadata": {},
   "outputs": [
    {
     "name": "stdout",
     "output_type": "stream",
     "text": [
      "ans =\r\n",
      "\r\n",
      "   0.14471\r\n",
      "   0.14479\r\n",
      "   0.14463\r\n",
      "   0.14468\r\n",
      "   0.14473\r\n",
      "   0.14471\r\n",
      "   0.14467\r\n",
      "\r\n"
     ]
    }
   ],
   "source": [
    "rank2(M, 0.85, 0.001)"
   ]
  },
  {
   "cell_type": "code",
   "execution_count": 12,
   "metadata": {},
   "outputs": [
    {
     "name": "stdout",
     "output_type": "stream",
     "text": [
      "v =\n",
      "\n",
      "   2   6   7\n",
      "\n",
      "A =\n",
      "\n",
      "   0   0   0\n",
      "   0   0   0\n",
      "   0   0   0\n",
      "\n",
      "error: A(0): subscripts must be either integers 1 to (2^31)-1 or logicals\n",
      "ans =\n",
      "\n",
      "Diagonal Matrix\n",
      "\n",
      "   2   0   0\n",
      "   0   6   0\n",
      "   0   0   7\n",
      "\n"
     ]
    }
   ],
   "source": [
    "v = [2 6 7 ]\n",
    "A = zeros(3)\n",
    "A(diag(A)) = v\n",
    "\n",
    "diag(v)\n"
   ]
  },
  {
   "cell_type": "code",
   "execution_count": null,
   "metadata": {},
   "outputs": [],
   "source": []
  }
 ],
 "metadata": {
  "kernelspec": {
   "display_name": "Octave",
   "language": "octave",
   "name": "octave"
  },
  "language_info": {
   "file_extension": ".m",
   "help_links": [
    {
     "text": "GNU Octave",
     "url": "https://www.gnu.org/software/octave/support.html"
    },
    {
     "text": "Octave Kernel",
     "url": "https://github.com/Calysto/octave_kernel"
    },
    {
     "text": "MetaKernel Magics",
     "url": "https://metakernel.readthedocs.io/en/latest/source/README.html"
    }
   ],
   "mimetype": "text/x-octave",
   "name": "octave",
   "version": "4.2.2"
  }
 },
 "nbformat": 4,
 "nbformat_minor": 4
}
